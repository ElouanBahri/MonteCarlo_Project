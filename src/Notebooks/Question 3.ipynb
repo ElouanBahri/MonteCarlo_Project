{
 "cells": [
  {
   "cell_type": "markdown",
   "metadata": {},
   "source": [
    "### MCMC-ABC Algorithm Comparison:\n",
    "## The MCMC-ABC algorithm has some key differences:\n",
    "\n",
    "- Efficiency: Unlike ABC-reject, the MCMC-ABC algorithm does not generate independent samples but uses a Markov chain to propose new parameter values based on the current sample. This can result in fewer rejections and more efficient exploration of the parameter space.\n",
    "\n",
    "- Exploration of the Parameter Space: The MCMC-ABC algorithm explores the parameter space iteratively, allowing it to converge to the target posterior distribution.\n",
    "\n",
    "- Complexity: The MCMC-ABC algorithm is more complex to implement and requires additional components, such as a proposal distribution and an acceptance ratio, which makes it more computationally intensive in terms of tuning."
   ]
  },
  {
   "cell_type": "code",
   "execution_count": 2,
   "metadata": {},
   "outputs": [],
   "source": [
    "from modules.MCMC_ABC import *\n",
    "from modules.ABC_reject import *"
   ]
  },
  {
   "cell_type": "code",
   "execution_count": 19,
   "metadata": {},
   "outputs": [
    {
     "name": "stdout",
     "output_type": "stream",
     "text": [
      "Alpha: 3.074511891896455\n",
      "Beta: 2.6129461470931945\n",
      "Estimate alpha : 1.872051093108004\n",
      "Estimate beta : 0.8817166214062666\n"
     ]
    }
   ],
   "source": [
    "# Example usage\n",
    "N = 100000  # Number of MCMC iterations\n",
    "epsilon = 0.01  # Tolerance for ABC\n",
    "n = 50  # Number of spins in the system\n",
    "true_alpha, true_beta = 0.5, 0.8\n",
    "# Simulate observed data (replace with real observed data)\n",
    "observed_data = ising_model_simulation(\n",
    "    true_alpha, true_beta, n\n",
    ")  # Example observed data\n",
    "\n",
    "# Run the MCMC-ABC algorithm\n",
    "alpha_samples, beta_samples = mcmc_abc_algorithm(N, epsilon, observed_data, n)\n",
    "\n",
    "# Display some results\n",
    "print(\"Alpha:\", alpha_samples[-1])  # First 10 samples\n",
    "print(\"Beta:\", beta_samples[-1])  # First 10 samples\n",
    "print(\"Estimate alpha :\", np.mean(np.array(alpha_samples), axis=0))\n",
    "print(\"Estimate beta :\", np.mean(np.array(beta_samples), axis=0))"
   ]
  }
 ],
 "metadata": {
  "kernelspec": {
   "display_name": "MC_project_env",
   "language": "python",
   "name": "python3"
  },
  "language_info": {
   "codemirror_mode": {
    "name": "ipython",
    "version": 3
   },
   "file_extension": ".py",
   "mimetype": "text/x-python",
   "name": "python",
   "nbconvert_exporter": "python",
   "pygments_lexer": "ipython3",
   "version": "3.11.11"
  }
 },
 "nbformat": 4,
 "nbformat_minor": 2
}
