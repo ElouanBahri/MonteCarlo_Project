{
 "cells": [
  {
   "cell_type": "markdown",
   "metadata": {},
   "source": [
    "### MCMC-ABC Algorithm Comparison:\n",
    "## The MCMC-ABC algorithm has some key differences:\n",
    "\n",
    "- Efficiency: Unlike ABC-reject, the MCMC-ABC algorithm does not generate independent samples but uses a Markov chain to propose new parameter values based on the current sample. This can result in fewer rejections and more efficient exploration of the parameter space.\n",
    "\n",
    "- Exploration of the Parameter Space: The MCMC-ABC algorithm explores the parameter space iteratively, allowing it to converge to the target posterior distribution.\n",
    "\n",
    "- Complexity: The MCMC-ABC algorithm is more complex to implement and requires additional components, such as a proposal distribution and an acceptance ratio, which makes it more computationally intensive in terms of tuning."
   ]
  },
  {
   "cell_type": "code",
   "execution_count": 1,
   "metadata": {},
   "outputs": [],
   "source": [
    "from modules.MCMC_ABC import *\n",
    "from modules.ABC_reject import *"
   ]
  },
  {
   "cell_type": "code",
   "execution_count": 2,
   "metadata": {},
   "outputs": [
    {
     "name": "stderr",
     "output_type": "stream",
     "text": [
      "/Users/elouan/A. Repo Github ElouanBahri/MonteCarlo_Project/src/Notebooks/modules/MCMC_ABC.py:52: RuntimeWarning: overflow encountered in exp\n",
      "  acceptance_prob = min(1, (1 / (1 + np.exp(dist))) * likelihood_ratio)\n"
     ]
    },
    {
     "ename": "KeyboardInterrupt",
     "evalue": "",
     "output_type": "error",
     "traceback": [
      "\u001b[31m---------------------------------------------------------------------------\u001b[39m",
      "\u001b[31mKeyboardInterrupt\u001b[39m                         Traceback (most recent call last)",
      "\u001b[36mCell\u001b[39m\u001b[36m \u001b[39m\u001b[32mIn[2]\u001b[39m\u001b[32m, line 9\u001b[39m\n\u001b[32m      7\u001b[39m observed_grid = run_gibbs(n, true_alpha, true_alpha, steps=\u001b[32m1\u001b[39m)\n\u001b[32m      8\u001b[39m \u001b[38;5;66;03m# Run the MCMC-ABC algorithm\u001b[39;00m\n\u001b[32m----> \u001b[39m\u001b[32m9\u001b[39m alpha_samples, beta_samples = \u001b[43mmcmc_abc_algorithm\u001b[49m\u001b[43m(\u001b[49m\u001b[43mN\u001b[49m\u001b[43m,\u001b[49m\u001b[43m \u001b[49m\u001b[43mepsilon\u001b[49m\u001b[43m,\u001b[49m\u001b[43m \u001b[49m\u001b[43mobserved_grid\u001b[49m\u001b[43m,\u001b[49m\u001b[43m \u001b[49m\u001b[43mn\u001b[49m\u001b[43m)\u001b[49m\n\u001b[32m     11\u001b[39m \u001b[38;5;66;03m# Display some results\u001b[39;00m\n\u001b[32m     12\u001b[39m \u001b[38;5;28mprint\u001b[39m(\u001b[33m\"\u001b[39m\u001b[33mAlpha:\u001b[39m\u001b[33m\"\u001b[39m, alpha_samples[-\u001b[32m1\u001b[39m])  \u001b[38;5;66;03m# First 10 samples\u001b[39;00m\n",
      "\u001b[36mFile \u001b[39m\u001b[32m~/A. Repo Github ElouanBahri/MonteCarlo_Project/src/Notebooks/modules/MCMC_ABC.py:39\u001b[39m, in \u001b[36mmcmc_abc_algorithm\u001b[39m\u001b[34m(N, epsilon, observed_data, n_spins, step_size)\u001b[39m\n\u001b[32m     36\u001b[39m theta_proposed = markov_kernel(theta_current, step_size)\n\u001b[32m     38\u001b[39m \u001b[38;5;66;03m# Step 2: Simulate data based on the proposed theta\u001b[39;00m\n\u001b[32m---> \u001b[39m\u001b[32m39\u001b[39m z_proposed = \u001b[43mrun_gibbs\u001b[49m\u001b[43m(\u001b[49m\u001b[43mn_spins\u001b[49m\u001b[43m,\u001b[49m\u001b[43m \u001b[49m\u001b[43mtheta_proposed\u001b[49m\u001b[43m[\u001b[49m\u001b[32;43m0\u001b[39;49m\u001b[43m]\u001b[49m\u001b[43m,\u001b[49m\u001b[43m \u001b[49m\u001b[43mtheta_proposed\u001b[49m\u001b[43m[\u001b[49m\u001b[32;43m1\u001b[39;49m\u001b[43m]\u001b[49m\u001b[43m)\u001b[49m\n\u001b[32m     41\u001b[39m \u001b[38;5;66;03m# Step 3: Compute summary statistics for the proposed data\u001b[39;00m\n\u001b[32m     42\u001b[39m summary_simulated = sufficient_statistics(z_proposed)\n",
      "\u001b[36mFile \u001b[39m\u001b[32m~/A. Repo Github ElouanBahri/MonteCarlo_Project/src/Notebooks/modules/Gibbs_sampler.py:36\u001b[39m, in \u001b[36mrun_gibbs\u001b[39m\u001b[34m(L, alpha, beta, steps)\u001b[39m\n\u001b[32m     34\u001b[39m lattice = initialize_lattice(L)\n\u001b[32m     35\u001b[39m \u001b[38;5;28;01mfor\u001b[39;00m _ \u001b[38;5;129;01min\u001b[39;00m \u001b[38;5;28mrange\u001b[39m(steps):\n\u001b[32m---> \u001b[39m\u001b[32m36\u001b[39m     \u001b[43mgibbs_step\u001b[49m\u001b[43m(\u001b[49m\u001b[43mlattice\u001b[49m\u001b[43m,\u001b[49m\u001b[43m \u001b[49m\u001b[43malpha\u001b[49m\u001b[43m,\u001b[49m\u001b[43m \u001b[49m\u001b[43mbeta\u001b[49m\u001b[43m)\u001b[49m\n\u001b[32m     37\u001b[39m \u001b[38;5;28;01mreturn\u001b[39;00m lattice\n",
      "\u001b[36mFile \u001b[39m\u001b[32m~/A. Repo Github ElouanBahri/MonteCarlo_Project/src/Notebooks/modules/Gibbs_sampler.py:25\u001b[39m, in \u001b[36mgibbs_step\u001b[39m\u001b[34m(lattice, alpha, beta)\u001b[39m\n\u001b[32m     16\u001b[39m S_i = (\n\u001b[32m     17\u001b[39m     lattice[(i - \u001b[32m1\u001b[39m) % L, j]\n\u001b[32m     18\u001b[39m     + lattice[(i + \u001b[32m1\u001b[39m) % L, j]\n\u001b[32m     19\u001b[39m     + lattice[i, (j - \u001b[32m1\u001b[39m) % L]\n\u001b[32m     20\u001b[39m     + lattice[i, (j + \u001b[32m1\u001b[39m) % L]\n\u001b[32m     21\u001b[39m )\n\u001b[32m     23\u001b[39m \u001b[38;5;66;03m# Compute conditional probability\u001b[39;00m\n\u001b[32m     24\u001b[39m p_1 = np.exp(alpha + beta * S_i) / (\n\u001b[32m---> \u001b[39m\u001b[32m25\u001b[39m     \u001b[43mnp\u001b[49m\u001b[43m.\u001b[49m\u001b[43mexp\u001b[49m\u001b[43m(\u001b[49m\u001b[43mbeta\u001b[49m\u001b[43m \u001b[49m\u001b[43m*\u001b[49m\u001b[43m \u001b[49m\u001b[43m(\u001b[49m\u001b[32;43m4\u001b[39;49m\u001b[43m \u001b[49m\u001b[43m-\u001b[49m\u001b[43m \u001b[49m\u001b[43mS_i\u001b[49m\u001b[43m)\u001b[49m\u001b[43m)\u001b[49m + np.exp(alpha + beta * S_i)\n\u001b[32m     26\u001b[39m )\n\u001b[32m     28\u001b[39m \u001b[38;5;66;03m# Sample new spin\u001b[39;00m\n\u001b[32m     29\u001b[39m lattice[i, j] = \u001b[32m1\u001b[39m \u001b[38;5;28;01mif\u001b[39;00m np.random.rand() < p_1 \u001b[38;5;28;01melse\u001b[39;00m \u001b[32m0\u001b[39m\n",
      "\u001b[31mKeyboardInterrupt\u001b[39m: "
     ]
    }
   ],
   "source": [
    "# Example usage\n",
    "N = 10  # Number of MCMC iterations\n",
    "epsilon = 0.01  # Tolerance for ABC\n",
    "n = 50  # Number of spins in the system\n",
    "true_alpha, true_beta = 0.5, 0.8\n",
    "# Simulate observed data (replace with real observed data)\n",
    "observed_grid = run_gibbs(n, true_alpha, true_alpha, steps=1)\n",
    "# Run the MCMC-ABC algorithm\n",
    "alpha_samples, beta_samples = mcmc_abc_algorithm(N, epsilon, observed_grid, n)\n",
    "\n",
    "# Display some results\n",
    "print(\"Alpha:\", alpha_samples[-1])  # First 10 samples\n",
    "print(\"Beta:\", beta_samples[-1])  # First 10 samples\n",
    "print(\"Estimate alpha :\", np.mean(np.array(alpha_samples), axis=0))\n",
    "print(\"Estimate beta :\", np.mean(np.array(beta_samples), axis=0))"
   ]
  },
  {
   "cell_type": "markdown",
   "metadata": {},
   "source": [
    "| $ n $ (System Size) | Number of Samples | $ \\epsilon $ (Tolerance) | $ \\alpha $ Estimate | $ \\beta $ Estimate | Time (s) | MSE |\n",
    "|---------------------|-------------------|--------------------------|---------------------|--------------------|----------|-----|\n",
    "| 10                  | 1000             | 0.001                      | 0.11                | 1.01               | 120       | 0.31 |\n",
    "| 20                  | 1000              | 0.001                     | 0.31                | 0.90               | 112       | 0.15 |\n",
    "| 30                  | 1000              | 0.001                     | 0.92                | 0.71               | 114       | 0.27 |\n"
   ]
  }
 ],
 "metadata": {
  "kernelspec": {
   "display_name": "MC_project_env",
   "language": "python",
   "name": "python3"
  },
  "language_info": {
   "codemirror_mode": {
    "name": "ipython",
    "version": 3
   },
   "file_extension": ".py",
   "mimetype": "text/x-python",
   "name": "python",
   "nbconvert_exporter": "python",
   "pygments_lexer": "ipython3",
   "version": "3.11.11"
  }
 },
 "nbformat": 4,
 "nbformat_minor": 2
}
