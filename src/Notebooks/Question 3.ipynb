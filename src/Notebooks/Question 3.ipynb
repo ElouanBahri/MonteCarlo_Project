{
 "cells": [
  {
   "cell_type": "markdown",
   "metadata": {},
   "source": [
    "### MCMC-ABC Algorithm Comparison:\n",
    "## The MCMC-ABC algorithm has some key differences:\n",
    "\n",
    "- Efficiency: Unlike ABC-reject, the MCMC-ABC algorithm does not generate independent samples but uses a Markov chain to propose new parameter values based on the current sample. This can result in fewer rejections and more efficient exploration of the parameter space.\n",
    "\n",
    "- Exploration of the Parameter Space: The MCMC-ABC algorithm explores the parameter space iteratively, allowing it to converge to the target posterior distribution.\n",
    "\n",
    "- Complexity: The MCMC-ABC algorithm is more complex to implement and requires additional components, such as a proposal distribution and an acceptance ratio, which makes it more computationally intensive in terms of tuning."
   ]
  },
  {
   "cell_type": "markdown",
   "metadata": {},
   "source": [
    "## Acceptance Probability in MCMC-ABC\n",
    "\n",
    "In the Metropolis-Hastings algorithm (which MCMC-ABC is based on), the acceptance probability for a proposed parameter move is:\n",
    "\n",
    "$\n",
    "A(\\theta_{\\text{current}} \\to \\theta_{\\text{proposed}}) = \\min\\left(1, \\frac{\\pi(\\theta_{\\text{proposed}}) \\, q(\\theta_{\\text{current}} | \\theta_{\\text{proposed}})}{\\pi(\\theta_{\\text{current}}) \\, q(\\theta_{\\text{proposed}} | \\theta_{\\text{current}})} \\right)\n",
    "$\n",
    "\n",
    "Where:\n",
    "- \\( \\pi(\\theta) \\) is the prior density at \\( \\theta \\)\n",
    "- \\( q(\\theta'|\\theta) \\) is the proposal density from \\( \\theta \\) to \\( \\theta' \\)\n",
    "\n",
    "Then we compare this value to a uniform random draw \\( u \\sim \\text{Uniform}(0,1) \\).\n",
    "\n",
    "---\n",
    "\n",
    "## In our specific case:\n",
    "\n",
    "- The **prior is uniform** over a bounded interval (e.g. \\([-1, 1]\\) for \\( \\alpha \\) and \\([0, 2]\\) for \\( \\beta \\)).\n",
    "- The **proposal distribution (Markov kernel)** is symmetric (e.g. a normal random walk proposal).\n",
    "\n",
    "This means:\n",
    "- The prior ratio is 1 inside the support.\n",
    "- The proposal ratio cancels out, as the proposal is symmetric.\n",
    "\n",
    "As a result, the acceptance probability simplifies to:\n",
    "\n",
    "- If the distance between simulated and observed summary statistics is less than \\( \\epsilon \\), accept.\n",
    "- Otherwise, reject.\n",
    "\n",
    "\n",
    "\n",
    "---\n"
   ]
  },
  {
   "cell_type": "code",
   "execution_count": null,
   "metadata": {},
   "outputs": [],
   "source": [
    "from modules.MCMC_ABC import *\n",
    "from modules.ABC_reject import *"
   ]
  },
  {
   "cell_type": "code",
   "execution_count": null,
   "metadata": {},
   "outputs": [],
   "source": [
    "# Example usage\n",
    "N = 1000  # Number of MCMC iterations\n",
    "epsilon_1 = 500  # Tolerance for ABC\n",
    "n = 500  # Number of spins in the system\n",
    "true_alpha, true_beta = 0.5, 1.2\n",
    "# Simulate observed data (replace with real observed data)\n",
    "observed_grid = run_gibbs(n, true_alpha, true_beta, steps=1)\n",
    "# Run the MCMC-ABC algorithm\n",
    "alpha_samples, beta_samples = mcmc_abc_algorithm(\n",
    "    N, epsilon_1, observed_grid, n_spins=n, step_size=0.1\n",
    ")\n",
    "\n",
    "\n",
    "print(\"Estimate alpha :\", np.mean(np.array(alpha_samples), axis=0))\n",
    "print(\"Estimate beta :\", np.mean(np.array(beta_samples), axis=0))\n",
    "print(\n",
    "    \" MSE :\",\n",
    "    0.5\n",
    "    * (\n",
    "        (0.5 - np.mean(np.array(alpha_samples), axis=0)) ** 2\n",
    "        + abs(1.2 - np.mean(np.array(beta_samples), axis=0)) ** 2\n",
    "    )\n",
    "    ** (0.5),\n",
    ")"
   ]
  },
  {
   "cell_type": "markdown",
   "metadata": {},
   "source": [
    "| $ n $ (System Size) | Number of MCMC step | $ \\epsilon $ (Tolerance) | $ \\alpha $ Estimate | $ \\beta $ Estimate | Time (s) | MSE |\n",
    "|---------------------|-------------------|--------------------------|---------------------|--------------------|----------|-----|\n",
    "| 10                  | 1000             | 1                      | 0.73                | 1.22               | 0.0       | 0.11 |\n",
    "| 20                  | 1000              | 10                     | 0.55                | 1.28              | 5       | 0.05 |\n",
    "| 30                  | 1000              | 50                    | 0.42                | 1.24               | 29.6       | 0.04 |\n",
    "| 50                  | 1000              | 50                    | 0.61                | 1.11               | 30.1      | 0.07 |\n",
    "| 100                  | 1000              | 50                 | 0.52                | 1.31               | 119.7       | 0.06 |\n",
    "| 500                  | 1000              | 500                     | 0.50                | 1.19               | 241.7       | 0.01 |\n"
   ]
  }
 ],
 "metadata": {
  "kernelspec": {
   "display_name": "MC_project_env",
   "language": "python",
   "name": "python3"
  },
  "language_info": {
   "codemirror_mode": {
    "name": "ipython",
    "version": 3
   },
   "file_extension": ".py",
   "mimetype": "text/x-python",
   "name": "python",
   "nbconvert_exporter": "python",
   "pygments_lexer": "ipython3",
   "version": "3.11.11"
  }
 },
 "nbformat": 4,
 "nbformat_minor": 2
}
