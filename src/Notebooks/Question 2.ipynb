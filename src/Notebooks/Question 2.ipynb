{
 "cells": [
  {
   "cell_type": "markdown",
   "metadata": {},
   "source": [
    "$$\n",
    "Z(\\alpha, \\beta) = \\sum_{x \\in \\{0,1\\}^n} \\exp \\left( \\alpha \\sum_i x_i + \\beta \\sum_{i \\sim j} \\mathbf{1}_{x_i = x_j} \\right)\n",
    "$$\n"
   ]
  },
  {
   "cell_type": "markdown",
   "metadata": {},
   "source": [
    "## 1. Expression of $ Z(\\alpha, \\beta)$\n",
    "\n",
    "The partition function $ Z(\\alpha, \\beta) $ ensures that $ p(x) $ is a valid probability distribution:\n",
    "\n",
    "$$\n",
    "Z(\\alpha, \\beta) = \\sum_{x \\in \\{0,1\\}^n} \\exp \\left( \\alpha \\sum_i x_i + \\beta \\sum_{i \\sim j} \\mathbf{1}_{x_i = x_j} \\right)\n",
    "$$\n",
    "\n",
    "where the sum runs over all possible configurations \\( x \\) of the system.\n",
    "\n",
    "### Why is $ Z(\\alpha, \\beta)$ difficult to compute?\n",
    "- The sum has **exponential complexity** in $ n $.\n",
    "- Computing it exactly requires summing over $ 2^n $ configurations, which is infeasible for large $ n $.\n",
    "- Instead, we use **sampling methods** (like Monte Carlo methods) to approximate it.\n",
    "\n",
    "\n",
    "\n",
    "\n"
   ]
  },
  {
   "cell_type": "markdown",
   "metadata": {},
   "source": [
    "## Likelihood and Log-Likelihood \n",
    "\n",
    "Let $ x^1, x^2, \\dots, x^n $ represent the **different observed configurations** of the Ising model, where each $ x^i $ is a vector of binary values representing the spin configurations.\n",
    "\n",
    "### Likelihood Function\n",
    "\n",
    "The **likelihood** is the **product of the probabilities** of these observed configurations given the model parameters $ \\alpha $ and $ \\beta $. For each configuration $ x^i $, the probability is given by the Ising model distribution:\n",
    "\n",
    "$$\n",
    "p(x^i \\mid \\alpha, \\beta) = \\frac{1}{Z(\\alpha, \\beta)} \\exp \\left( \\alpha \\sum_j x^i_j + \\beta \\sum_{j \\sim k} \\mathbf{1}_{x^i_j = x^i_k} \\right)\n",
    "$$\n",
    "\n",
    "The **likelihood** is the product of the probabilities for all observed configurations $ x^1, x^2, \\dots, x^n $:\n",
    "\n",
    "$$\n",
    "L(\\alpha, \\beta \\mid x^1, x^2, \\dots, x^n) = \\prod_{i=1}^{n} p(x^i \\mid \\alpha, \\beta)\n",
    "$$\n",
    "\n",
    "Substituting the probability for each observation:\n",
    "\n",
    "$$\n",
    "L(\\alpha, \\beta \\mid x^1, x^2, \\dots, x^n) = \\prod_{i=1}^{n} \\frac{1}{Z(\\alpha, \\beta)} \\exp \\left( \\alpha \\sum_j x^i_j + \\beta \\sum_{j \\sim k} \\mathbf{1}_{x^i_j = x^i_k} \\right)\n",
    "$$\n",
    "\n",
    "### Log-Likelihood Function\n",
    "\n",
    "To simplify the computation, we take the **logarithm** of the likelihood to obtain the **log-likelihood**:\n",
    "\n",
    "$$\n",
    "\\log L(\\alpha, \\beta \\mid x^1, x^2, \\dots, x^n) = \\sum_{i=1}^{n} \\left( \\alpha \\sum_j x^i_j + \\beta \\sum_{j \\sim k} \\mathbf{1}_{x^i_j = x^i_k} \\right) - n \\log Z(\\alpha, \\beta)\n",
    "$$\n",
    "\n",
    "Where:\n",
    "- $ x^i_j $ refers to the $ j $-th element (spin) of the $ i $-th configuration vector $ x^i $.\n",
    "- The sum $ \\sum_j x^i_j $ is the total sum of spins in the $ i $-th configuration.\n",
    "- The sum $ \\sum_{j \\sim k} \\mathbf{1}_{x^i_j = x^i_k} $ counts the number of neighboring pairs of spins that are equal in the $ i $-th configuration.\n",
    "- $ Z(\\alpha, \\beta) $ is the partition function, which normalizes the distribution.\n",
    "\n",
    "---\n",
    "\n",
    "### Why is MLE difficult?\n",
    "- Computing $ Z(\\alpha, \\beta)$ is **intractable**.\n",
    "- Gradient-based optimization is challenging because computing gradients requires evaluating $ Z(\\alpha, \\beta)$.\n",
    "\n",
    "👉 **Solution**: Instead of MLE, we use **Approximate Bayesian Computation (ABC)**."
   ]
  },
  {
   "cell_type": "markdown",
   "metadata": {},
   "source": []
  }
 ],
 "metadata": {
  "kernelspec": {
   "display_name": "MC_project_env",
   "language": "python",
   "name": "python3"
  },
  "language_info": {
   "name": "python",
   "version": "3.11.11"
  }
 },
 "nbformat": 4,
 "nbformat_minor": 2
}
