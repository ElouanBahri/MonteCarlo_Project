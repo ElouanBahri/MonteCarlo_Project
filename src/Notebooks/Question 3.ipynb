{
 "cells": [
  {
   "cell_type": "markdown",
   "metadata": {},
   "source": [
    "### MCMC-ABC Algorithm Comparison:\n",
    "## The MCMC-ABC algorithm has some key differences:\n",
    "\n",
    "- Efficiency: Unlike ABC-reject, the MCMC-ABC algorithm does not generate independent samples but uses a Markov chain to propose new parameter values based on the current sample. This can result in fewer rejections and more efficient exploration of the parameter space.\n",
    "\n",
    "- Exploration of the Parameter Space: The MCMC-ABC algorithm explores the parameter space iteratively, allowing it to converge to the target posterior distribution.\n",
    "\n",
    "- Complexity: The MCMC-ABC algorithm is more complex to implement and requires additional components, such as a proposal distribution and an acceptance ratio, which makes it more computationally intensive in terms of tuning."
   ]
  },
  {
   "cell_type": "code",
   "execution_count": null,
   "metadata": {},
   "outputs": [],
   "source": [
    "from modules.MCMC_ABC import *\n",
    "from modules.ABC_reject import *"
   ]
  },
  {
   "cell_type": "code",
   "execution_count": null,
   "metadata": {},
   "outputs": [],
   "source": [
    "# Example usage\n",
    "N = 500 # Number of MCMC iterations\n",
    "epsilon = 5  # Tolerance for ABC\n",
    "n = 10  # Number of spins in the system\n",
    "true_alpha, true_beta = 0.5, 1.2\n",
    "# Simulate observed data (replace with real observed data)\n",
    "observed_grid = run_gibbs(n, true_alpha, true_alpha, steps=1)\n",
    "# Run the MCMC-ABC algorithm\n",
    "alpha_samples, beta_samples = mcmc_abc_algorithm(N, epsilon, observed_grid,epsilon_algo_2=3, n_spins=n)\n",
    "\n",
    "# Display some results\n",
    "#print(\"Alpha:\", alpha_samples[-1])  # First 10 samples\n",
    "#print(\"Beta:\", beta_samples[-1])  # First 10 samples\n",
    "print(\"Estimate alpha :\", np.mean(np.array(alpha_samples), axis=0))\n",
    "print(\"Estimate beta :\", np.mean(np.array(beta_samples), axis=0))"
   ]
  },
  {
   "cell_type": "markdown",
   "metadata": {},
   "source": [
    "| $ n $ (System Size) | Number of Samples | $ \\epsilon $ (Tolerance) | $ \\alpha $ Estimate | $ \\beta $ Estimate | Time (s) | MSE |\n",
    "|---------------------|-------------------|--------------------------|---------------------|--------------------|----------|-----|\n",
    "| 10                  | 1000             | 0.001                      | 0.11                | 1.01               | 120       | 0.31 |\n",
    "| 20                  | 1000              | 0.001                     | 0.31                | 0.90               | 112       | 0.15 |\n",
    "| 30                  | 1000              | 0.001                     | 0.92                | 0.71               | 114       | 0.27 |\n"
   ]
  }
 ],
 "metadata": {
  "kernelspec": {
   "display_name": "MC_project_env",
   "language": "python",
   "name": "python3"
  },
  "language_info": {
   "codemirror_mode": {
    "name": "ipython",
    "version": 3
   },
   "file_extension": ".py",
   "mimetype": "text/x-python",
   "name": "python",
   "nbconvert_exporter": "python",
   "pygments_lexer": "ipython3",
   "version": "3.11.11"
  }
 },
 "nbformat": 4,
 "nbformat_minor": 2
}
